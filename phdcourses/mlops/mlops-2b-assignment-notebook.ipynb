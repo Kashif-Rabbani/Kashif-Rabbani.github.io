{
 "cells": [
  {
   "cell_type": "code",
   "execution_count": null,
   "metadata": {
    "pycharm": {
     "is_executing": true,
     "name": "#%%\n"
    }
   },
   "outputs": [],
   "source": [
    "import numpy as np # linear algebra\n",
    "import pandas as pd # data processing, CSV file I/O (e.g. pd.read_csv)\n",
    "from sklearn.metrics import classification_report\n",
    "from sklearn.pipeline import Pipeline, FeatureUnion\n",
    "from sklearn.preprocessing import FunctionTransformer, OneHotEncoder, KBinsDiscretizer, MaxAbsScaler\n",
    "from sklearn.ensemble import RandomForestClassifier\n",
    "from sklearn.impute import SimpleImputer\n",
    "import seaborn as sns\n",
    "import warnings\n",
    "from evidently.dashboard import Dashboard\n",
    "from evidently.pipeline.column_mapping import ColumnMapping\n",
    "from evidently.dashboard.tabs import DataDriftTab, CatTargetDriftTab, NumTargetDriftTab, ClassificationPerformanceTab\n",
    "\n",
    "sns.set()\n",
    "warnings.filterwarnings('ignore')\n",
    "%matplotlib inline"
   ]
  },
  {
   "cell_type": "code",
   "execution_count": null,
   "metadata": {
    "pycharm": {
     "name": "#%%\n"
    }
   },
   "outputs": [],
   "source": [
    "#Load Data and encode to latin\n",
    "acc = pd.read_csv('data/Accident_Information.csv', encoding = 'latin')\n",
    "veh = pd.read_csv('data/Vehicle_Information.csv', encoding = 'latin')\n",
    "\n",
    "# Merging two data sets into one with inner join by index\n",
    "df = pd.merge(veh, acc, how = 'inner', on = 'Accident_Index')\n",
    "df['datetime'] = pd.to_datetime(df['Date'] + ' ' + df['Time'])\n",
    "# df = df.dropna()\n",
    "#Check data sample\n",
    "print(df.shape)\n",
    "# Creating weights that are opposite to the weights of target\n",
    "weights = np.where(df['Accident_Severity'] == 'Slight', .12, .88)\n",
    "\n",
    "#Sampling only 30% of the data with new weights  \n",
    "df = df.sample(frac=0.3, replace=True, weights=weights)\n",
    "\n",
    "print(df.shape)"
   ]
  },
  {
   "cell_type": "code",
   "execution_count": null,
   "metadata": {
    "pycharm": {
     "name": "#%%\n"
    }
   },
   "outputs": [],
   "source": [
    "df2 = df[['datetime', '1st_Road_Class','Day_of_Week', 'Junction_Detail','Light_Conditions', 'Number_of_Casualties',\n",
    "          'Number_of_Vehicles', 'Road_Surface_Conditions', 'Road_Type', 'Special_Conditions_at_Site', 'Speed_limit',\n",
    "          'Time', 'Urban_or_Rural_Area', 'Weather_Conditions', 'Age_Band_of_Driver', 'Age_of_Vehicle',\n",
    "          'Hit_Object_in_Carriageway', 'Hit_Object_off_Carriageway', 'make', 'Engine_Capacity_.CC.', 'Sex_of_Driver',\n",
    "          'Skidding_and_Overturning', 'Vehicle_Manoeuvre', 'Vehicle_Type', 'Accident_Severity'\n",
    "         ]]\n",
    "df2['Accident_Severity'] = df2['Accident_Severity'].replace(['Serious', 'Fatal'], 'Serious or Fatal')\n",
    "df2 = pd.get_dummies(df2, columns=['Accident_Severity'])\n",
    "df2 = df2.drop('Accident_Severity_Serious or Fatal', axis=1)\n",
    "df2 = df2.set_index('datetime').sort_index()\n",
    "df2.Accident_Severity_Slight.value_counts(normalize=True)"
   ]
  },
  {
   "cell_type": "code",
   "execution_count": null,
   "metadata": {
    "pycharm": {
     "name": "#%%\n"
    }
   },
   "outputs": [],
   "source": [
    "def get_Speed_limit(df):\n",
    "    return df[['Speed_limit']]\n",
    "\n",
    "def get_Time(df):\n",
    "    return pd.to_datetime(df['Time'], format='%H:%M').dt.time\n",
    "\n",
    "def find_time_group(time_object):\n",
    "    if time_object<pd.datetime.time(pd.datetime(2000,1,1,5,0)):\n",
    "        return 'Night'\n",
    "    elif time_object<pd.datetime.time(pd.datetime(2000,1,1,7,0)):\n",
    "        return 'Early Morning'\n",
    "    elif time_object<pd.datetime.time(pd.datetime(2000,1,1,10,0)):\n",
    "        return 'Morning'\n",
    "    elif time_object<pd.datetime.time(pd.datetime(2000,1,1,15,0)):\n",
    "        return 'Midday'\n",
    "    elif time_object<pd.datetime.time(pd.datetime(2000,1,1,18,0)):\n",
    "        return 'Afternoon'\n",
    "    elif time_object<pd.datetime.time(pd.datetime(2000,1,1,20,0)):\n",
    "        return 'Evening'\n",
    "    elif time_object<=pd.datetime.time(pd.datetime(2000,1,1,23,59)):\n",
    "        return 'Late Evening'\n",
    "    return np.nan\n",
    "\n",
    "def get_Age_of_Vehicle(df):\n",
    "    return df[['Age_of_Vehicle']]\n",
    "\n",
    "def get_Engine_Capacity(df):\n",
    "    return df[['Engine_Capacity_.CC.']]\n",
    "\n",
    "def get_columns_to_one_hot(df):\n",
    "    return df[['1st_Road_Class', 'Day_of_Week', 'Junction_Detail', 'Light_Conditions', 'Number_of_Casualties', \n",
    "               'Number_of_Vehicles', 'Road_Surface_Conditions', 'Road_Type', 'Special_Conditions_at_Site', \n",
    "               'Urban_or_Rural_Area', 'Weather_Conditions', 'Age_Band_of_Driver', 'Hit_Object_in_Carriageway',\n",
    "               'Hit_Object_off_Carriageway', 'Sex_of_Driver', 'Skidding_and_Overturning',\n",
    "               'Vehicle_Manoeuvre', 'Vehicle_Type'\n",
    "              ]]\n",
    "\n",
    "def get_make(df):\n",
    "    list_of_small_makers = list(df['make'].value_counts()[df['make'].value_counts() < 2000].index)\n",
    "    return df['make'].replace(list_of_small_makers, 'Other').to_frame()\n",
    "\n",
    "\n",
    "FullTransformerOnSpeedLimit = Pipeline([(\"Select_Speed_Limit\", FunctionTransformer(func=get_Speed_limit, validate=False)),\n",
    "                                        (\"Fill_Null\",          SimpleImputer(missing_values=np.nan, strategy='most_frequent')),\n",
    "                                        (\"One_Hot_Encoder\",    OneHotEncoder(sparse = False, handle_unknown='ignore'))\n",
    "                                       ])\n",
    "\n",
    "\n",
    "FullTransformerOnTime = Pipeline([(\"Select_Time\",     FunctionTransformer(func=get_Time, validate=False)),\n",
    "                                  (\"Group_Time\",      FunctionTransformer(func=lambda x: x.apply(find_time_group).to_frame(), validate=False)),\n",
    "                                  (\"Fill_Null\",       SimpleImputer(missing_values=np.nan, strategy='most_frequent')),\n",
    "                                  (\"One_Hot_Encoder\", OneHotEncoder(sparse = False, handle_unknown='ignore'))\n",
    "                                 ])\n",
    "\n",
    "FullTransformerOnAgeofVehicle = Pipeline([(\"Select_Age_of_Vehicle\", FunctionTransformer(func=get_Age_of_Vehicle, validate=False)),\n",
    "                                          (\"Fill_Null\",             SimpleImputer(missing_values=np.nan, strategy='median'))\n",
    "                                         ])\n",
    "\n",
    "\n",
    "\n",
    "FullTransformerOnMake = Pipeline([(\"Select_Make\",      FunctionTransformer(func=get_make, validate=False)),\n",
    "                                   (\"Fill_Null\",       SimpleImputer(missing_values=np.nan, strategy='constant', fill_value='Other')),\n",
    "                                   (\"One_Hot_Encoder\", OneHotEncoder(sparse = False, handle_unknown='ignore'))])\n",
    "\n",
    "\n",
    "\n",
    "FullTransformerOnEngineCapacity = Pipeline([(\"Select_Engine_Capacity\",       FunctionTransformer(func=get_Engine_Capacity, validate=False)),\n",
    "                                            (\"Fill_Null\",                    SimpleImputer(missing_values=np.nan, strategy='most_frequent')),\n",
    "                                            (\"Car_Types_by_Engine_Capacity\", KBinsDiscretizer(n_bins=7, encode='ordinal', strategy='quantile')),\n",
    "                                            (\"One_Hot_Encoder\",              OneHotEncoder(sparse = False, handle_unknown='ignore'))\n",
    "                                           ])\n",
    "\n",
    "DataToOneHotTransformerOnColumns = Pipeline([(\"Select_Columns\",  FunctionTransformer(func=get_columns_to_one_hot, validate=False)),\n",
    "                                             (\"One_Hot_Encoder\", OneHotEncoder(sparse = False, handle_unknown='ignore'))])\n",
    "\n",
    "FeatureUnionTransformer = FeatureUnion([\n",
    "                                        (\"FTAgeofVehicle\",   FullTransformerOnAgeofVehicle),\n",
    "                                        (\"FTEngineCapacity\", FullTransformerOnEngineCapacity),\n",
    "                                        (\"FTMake\",           FullTransformerOnMake),\n",
    "                                        (\"FTSpeedLimit\",     FullTransformerOnSpeedLimit),\n",
    "                                        (\"FTTime\",           FullTransformerOnTime),\n",
    "                                        (\"OHEColumns\",       DataToOneHotTransformerOnColumns)])\n"
   ]
  },
  {
   "cell_type": "code",
   "execution_count": null,
   "metadata": {
    "pycharm": {
     "name": "#%%\n"
    }
   },
   "outputs": [],
   "source": [
    "%%time\n",
    "\n",
    "print('All size', df2.shape)\n",
    "\n",
    "training = df2.loc['2005-01-01 00:00:00':'2006-01-01 00:00:00'].copy()\n",
    "testing = df2.loc['2006-01-01 00:00:00':'2006-03-01 00:00:00'].copy()\n",
    "coming_months = [['2006-03-01 00:00:00','2006-06-01 00:00:00'],\n",
    "                 ['2006-06-01 00:00:00','2006-09-01 00:00:00'],\n",
    "                 ['2006-09-01 00:00:00','2006-12-01 00:00:00']]\n",
    "\n",
    "print('training size', training.shape)\n",
    "print('testing size', testing.shape)\n",
    "\n",
    "X_train = training.drop(['Accident_Severity_Slight'], axis=1)\n",
    "y_train = training.Accident_Severity_Slight\n",
    "\n",
    "X_test = testing.drop(['Accident_Severity_Slight'], axis=1)\n",
    "y_test = testing.Accident_Severity_Slight\n",
    "\n",
    "\n",
    "RandomForest_Full_Estimator = Pipeline([\n",
    "                                        (\"Feature_Engineering\", FeatureUnionTransformer),\n",
    "                                        (\"Min_Max_Transformer\", MaxAbsScaler()),\n",
    "                                        (\"Clf\",                 RandomForestClassifier(n_estimators=100, n_jobs=3))\n",
    "                                       ])\n",
    "\n",
    "\n",
    "RandomForest_Full_Estimator.fit(X_train, y_train)\n",
    "train_hat = RandomForest_Full_Estimator.predict(X_train) \n",
    "pred_hat = RandomForest_Full_Estimator.predict(X_test)\n",
    "\n",
    "\n",
    "training['prediction'] = train_hat\n",
    "testing['prediction'] = pred_hat\n"
   ]
  },
  {
   "cell_type": "code",
   "execution_count": null,
   "metadata": {
    "pycharm": {
     "name": "#%%\n"
    }
   },
   "outputs": [],
   "source": [
    "column_mapping = ColumnMapping()\n",
    "\n",
    "column_mapping.target = 'Accident_Severity_Slight'\n",
    "column_mapping.prediction = 'prediction'\n",
    "classification_perfomance_dashboard = Dashboard(tabs=[ClassificationPerformanceTab()])\n",
    "classification_perfomance_dashboard.calculate(testing, None, column_mapping=column_mapping)\n",
    "classification_perfomance_dashboard.show()"
   ]
  },
  {
   "cell_type": "markdown",
   "metadata": {
    "pycharm": {
     "name": "#%% md\n"
    }
   },
   "source": [
    "# Next Trimester"
   ]
  },
  {
   "cell_type": "code",
   "execution_count": null,
   "metadata": {
    "pycharm": {
     "name": "#%%\n"
    }
   },
   "outputs": [],
   "source": [
    "%%time\n",
    "\n",
    "next_month = df2.loc[coming_months[0][0]:coming_months[0][1]].copy()\n",
    "\n",
    "X_nm = next_month.drop(['Accident_Severity_Slight'], axis=1)\n",
    "y_nm = next_month.Accident_Severity_Slight\n",
    "\n",
    "nm_hat = RandomForest_Full_Estimator.predict(X_nm) \n",
    "\n",
    "next_month['prediction'] = nm_hat\n",
    "\n",
    "classification_perfomance_dashboard.calculate(testing, next_month, column_mapping=column_mapping)\n",
    "classification_perfomance_dashboard.show()"
   ]
  },
  {
   "cell_type": "code",
   "execution_count": null,
   "metadata": {
    "pycharm": {
     "name": "#%%\n"
    }
   },
   "outputs": [],
   "source": [
    "target_drift_dashboard = Dashboard(tabs=[CatTargetDriftTab()])\n",
    "target_drift_dashboard.calculate(testing, next_month, column_mapping=column_mapping)\n",
    "target_drift_dashboard.show()"
   ]
  },
  {
   "cell_type": "markdown",
   "metadata": {
    "pycharm": {
     "name": "#%% md\n"
    }
   },
   "source": [
    "# Next Trimester"
   ]
  },
  {
   "cell_type": "code",
   "execution_count": null,
   "metadata": {
    "pycharm": {
     "name": "#%%\n"
    }
   },
   "outputs": [],
   "source": [
    "%%time\n",
    "\n",
    "next_month = df2.loc[coming_months[1][0]:coming_months[1][1]].copy()\n",
    "\n",
    "X_nm = next_month.drop(['Accident_Severity_Slight'], axis=1)\n",
    "y_nm = next_month.Accident_Severity_Slight\n",
    "\n",
    "nm_hat = RandomForest_Full_Estimator.predict(X_nm) \n",
    "\n",
    "next_month['prediction'] = nm_hat\n",
    "\n",
    "classification_perfomance_dashboard.calculate(testing, next_month, column_mapping=column_mapping)\n",
    "classification_perfomance_dashboard.show()"
   ]
  },
  {
   "cell_type": "code",
   "execution_count": null,
   "metadata": {
    "pycharm": {
     "name": "#%%\n"
    }
   },
   "outputs": [],
   "source": [
    "target_drift_dashboard = Dashboard(tabs=[CatTargetDriftTab()])\n",
    "target_drift_dashboard.calculate(testing, next_month, column_mapping=column_mapping)\n",
    "target_drift_dashboard.show()"
   ]
  },
  {
   "cell_type": "markdown",
   "metadata": {
    "pycharm": {
     "name": "#%% md\n"
    }
   },
   "source": [
    "# Next Trimester"
   ]
  },
  {
   "cell_type": "code",
   "execution_count": null,
   "metadata": {
    "pycharm": {
     "name": "#%%\n"
    }
   },
   "outputs": [],
   "source": [
    "%%time\n",
    "\n",
    "next_month = df2.loc[coming_months[2][0]:coming_months[2][1]].copy()\n",
    "\n",
    "X_nm = next_month.drop(['Accident_Severity_Slight'], axis=1)\n",
    "y_nm = next_month.Accident_Severity_Slight\n",
    "\n",
    "nm_hat = RandomForest_Full_Estimator.predict(X_nm) \n",
    "\n",
    "next_month['prediction'] = nm_hat\n",
    "\n",
    "classification_perfomance_dashboard.calculate(testing, next_month, column_mapping=column_mapping)\n",
    "classification_perfomance_dashboard.show()"
   ]
  },
  {
   "cell_type": "code",
   "execution_count": null,
   "metadata": {
    "pycharm": {
     "name": "#%%\n"
    }
   },
   "outputs": [],
   "source": [
    "target_drift_dashboard = Dashboard(tabs=[CatTargetDriftTab()])\n",
    "target_drift_dashboard.calculate(testing, next_month, column_mapping=column_mapping)\n",
    "target_drift_dashboard.show()"
   ]
  }
 ],
 "metadata": {
  "kernelspec": {
   "display_name": "Python 3 (ipykernel)",
   "language": "python",
   "name": "python3"
  },
  "language_info": {
   "codemirror_mode": {
    "name": "ipython",
    "version": 3
   },
   "file_extension": ".py",
   "mimetype": "text/x-python",
   "name": "python",
   "nbconvert_exporter": "python",
   "pygments_lexer": "ipython3",
   "version": "3.7.9"
  }
 },
 "nbformat": 4,
 "nbformat_minor": 1
}